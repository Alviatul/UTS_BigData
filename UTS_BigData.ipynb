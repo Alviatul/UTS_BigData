{
  "nbformat": 4,
  "nbformat_minor": 0,
  "metadata": {
    "colab": {
      "provenance": []
    },
    "kernelspec": {
      "name": "python3",
      "display_name": "Python 3"
    },
    "language_info": {
      "name": "python"
    }
  },
  "cells": [
    {
      "cell_type": "markdown",
      "source": [
        "# ALVIATUL NAZILA\n",
        "# 202010370311293\n",
        "# ANALISIS BIG DATA B/D\n",
        "\n",
        "\n"
      ],
      "metadata": {
        "id": "jOiIbeX72et-"
      }
    },
    {
      "cell_type": "code",
      "execution_count": 34,
      "metadata": {
        "colab": {
          "base_uri": "https://localhost:8080/"
        },
        "id": "mhJi7TsJbSrI",
        "outputId": "85a571fa-28f4-4e12-90a0-b87c0008900a"
      },
      "outputs": [
        {
          "output_type": "stream",
          "name": "stdout",
          "text": [
            "Requirement already satisfied: kaggle in /usr/local/lib/python3.10/dist-packages (1.5.16)\n",
            "Requirement already satisfied: six>=1.10 in /usr/local/lib/python3.10/dist-packages (from kaggle) (1.16.0)\n",
            "Requirement already satisfied: certifi in /usr/local/lib/python3.10/dist-packages (from kaggle) (2023.7.22)\n",
            "Requirement already satisfied: python-dateutil in /usr/local/lib/python3.10/dist-packages (from kaggle) (2.8.2)\n",
            "Requirement already satisfied: requests in /usr/local/lib/python3.10/dist-packages (from kaggle) (2.31.0)\n",
            "Requirement already satisfied: tqdm in /usr/local/lib/python3.10/dist-packages (from kaggle) (4.66.1)\n",
            "Requirement already satisfied: python-slugify in /usr/local/lib/python3.10/dist-packages (from kaggle) (8.0.1)\n",
            "Requirement already satisfied: urllib3 in /usr/local/lib/python3.10/dist-packages (from kaggle) (2.0.7)\n",
            "Requirement already satisfied: bleach in /usr/local/lib/python3.10/dist-packages (from kaggle) (6.1.0)\n",
            "Requirement already satisfied: webencodings in /usr/local/lib/python3.10/dist-packages (from bleach->kaggle) (0.5.1)\n",
            "Requirement already satisfied: text-unidecode>=1.3 in /usr/local/lib/python3.10/dist-packages (from python-slugify->kaggle) (1.3)\n",
            "Requirement already satisfied: charset-normalizer<4,>=2 in /usr/local/lib/python3.10/dist-packages (from requests->kaggle) (3.3.1)\n",
            "Requirement already satisfied: idna<4,>=2.5 in /usr/local/lib/python3.10/dist-packages (from requests->kaggle) (3.4)\n"
          ]
        },
        {
          "output_type": "stream",
          "name": "stderr",
          "text": [
            "<ipython-input-34-976e8e4b6c16>:9: MatplotlibDeprecationWarning: The seaborn styles shipped by Matplotlib are deprecated since 3.6, as they no longer correspond to the styles shipped by seaborn. However, they will remain available as 'seaborn-v0_8-<style>'. Alternatively, directly use the seaborn API instead.\n",
            "  plt.style.use('seaborn-whitegrid')\n"
          ]
        }
      ],
      "source": [
        "import pandas as pd\n",
        "import numpy as np\n",
        "! pip install kaggle\n",
        "from sklearn.preprocessing import MinMaxScaler\n",
        "from matplotlib import pyplot as plt\n",
        "from sklearn.feature_selection import SelectKBest, f_classif\n",
        "from sklearn.cluster import KMeans\n",
        "%matplotlib inline\n",
        "plt.style.use('seaborn-whitegrid')\n",
        "from sklearn.preprocessing import LabelEncoder, OneHotEncoder, OrdinalEncoder, StandardScaler, MinMaxScaler\n",
        "import seaborn as sns\n",
        "from sklearn.preprocessing import MinMaxScaler\n",
        "from sklearn.preprocessing import LabelEncoder, OneHotEncoder, OrdinalEncoder, StandardScaler, MinMaxScaler\n",
        "import seaborn as sns\n",
        "import re\n",
        "\n",
        "from sklearn.ensemble import RandomForestClassifier\n",
        "from sklearn.model_selection import train_test_split\n",
        "from sklearn.metrics import accuracy_score"
      ]
    },
    {
      "cell_type": "code",
      "source": [
        "from google.colab import drive\n",
        "drive.mount('/content/drive')"
      ],
      "metadata": {
        "colab": {
          "base_uri": "https://localhost:8080/"
        },
        "id": "bD1uL74PcLuA",
        "outputId": "92acd627-f24a-46cf-9921-55d27789a7db"
      },
      "execution_count": 35,
      "outputs": [
        {
          "output_type": "stream",
          "name": "stdout",
          "text": [
            "Drive already mounted at /content/drive; to attempt to forcibly remount, call drive.mount(\"/content/drive\", force_remount=True).\n"
          ]
        }
      ]
    },
    {
      "cell_type": "code",
      "source": [
        "url = '/content/drive/MyDrive/trace_2023_01_29_09_37_10.csv'\n",
        "df = pd.read_csv(url)\n",
        "df"
      ],
      "metadata": {
        "colab": {
          "base_uri": "https://localhost:8080/",
          "height": 423
        },
        "id": "HCO36UKAcNY5",
        "outputId": "ce191a9e-2adf-4905-db44-65453ce4255a"
      },
      "execution_count": 36,
      "outputs": [
        {
          "output_type": "execute_result",
          "data": {
            "text/plain": [
              "           No.       Time          Source    Destination Protocol  Length  \\\n",
              "0            1   0.000000  172.217.194.95    10.10.1.198      TCP      96   \n",
              "1            2   0.000000  172.217.194.95    10.10.1.198      TCP      96   \n",
              "2            3   0.000000  172.217.194.95    10.10.1.198      TCP      96   \n",
              "3            4   0.000101  172.217.194.95    10.10.1.198      TCP      96   \n",
              "4            5   0.000101  172.217.194.95    10.10.1.198      TCP      96   \n",
              "...        ...        ...             ...            ...      ...     ...   \n",
              "250683  250684  45.598711   142.251.10.95    10.10.1.198      TCP      96   \n",
              "250684  250685  45.598712   142.251.10.95    10.10.1.198      TCP      96   \n",
              "250685  250686  45.598712   142.251.10.95    10.10.1.198      TCP      96   \n",
              "250686  250687  45.598712   142.251.10.95    10.10.1.198      TCP      96   \n",
              "250687  250688  45.598848     10.10.1.198  142.251.10.95  TLSv1.3   64468   \n",
              "\n",
              "                                                     Info  \n",
              "0       443  >  59620 [ACK] Seq=1 Ack=1 Win=15371 Len=...  \n",
              "1       [TCP Dup ACK 1#1] 443  >  59620 [ACK] Seq=1 Ac...  \n",
              "2       [TCP Dup ACK 1#2] 443  >  59620 [ACK] Seq=1 Ac...  \n",
              "3       443  >  59620 [ACK] Seq=1 Ack=1401 Win=15371 L...  \n",
              "4       [TCP Dup ACK 4#1] 443  >  59620 [ACK] Seq=1 Ac...  \n",
              "...                                                   ...  \n",
              "250683  443  >  49476 [ACK] Seq=21904 Ack=181073999 Wi...  \n",
              "250684  [TCP Dup ACK 250684#1] 443  >  49476 [ACK] Seq...  \n",
              "250685  443  >  49476 [ACK] Seq=21904 Ack=181075399 Wi...  \n",
              "250686  [TCP Dup ACK 250686#1] 443  >  49476 [ACK] Seq...  \n",
              "250687  Application Data, Application Data, Applicatio...  \n",
              "\n",
              "[250688 rows x 7 columns]"
            ],
            "text/html": [
              "\n",
              "  <div id=\"df-b9ef36b0-97f9-4cce-b7ed-359bcb43f15d\" class=\"colab-df-container\">\n",
              "    <div>\n",
              "<style scoped>\n",
              "    .dataframe tbody tr th:only-of-type {\n",
              "        vertical-align: middle;\n",
              "    }\n",
              "\n",
              "    .dataframe tbody tr th {\n",
              "        vertical-align: top;\n",
              "    }\n",
              "\n",
              "    .dataframe thead th {\n",
              "        text-align: right;\n",
              "    }\n",
              "</style>\n",
              "<table border=\"1\" class=\"dataframe\">\n",
              "  <thead>\n",
              "    <tr style=\"text-align: right;\">\n",
              "      <th></th>\n",
              "      <th>No.</th>\n",
              "      <th>Time</th>\n",
              "      <th>Source</th>\n",
              "      <th>Destination</th>\n",
              "      <th>Protocol</th>\n",
              "      <th>Length</th>\n",
              "      <th>Info</th>\n",
              "    </tr>\n",
              "  </thead>\n",
              "  <tbody>\n",
              "    <tr>\n",
              "      <th>0</th>\n",
              "      <td>1</td>\n",
              "      <td>0.000000</td>\n",
              "      <td>172.217.194.95</td>\n",
              "      <td>10.10.1.198</td>\n",
              "      <td>TCP</td>\n",
              "      <td>96</td>\n",
              "      <td>443  &gt;  59620 [ACK] Seq=1 Ack=1 Win=15371 Len=...</td>\n",
              "    </tr>\n",
              "    <tr>\n",
              "      <th>1</th>\n",
              "      <td>2</td>\n",
              "      <td>0.000000</td>\n",
              "      <td>172.217.194.95</td>\n",
              "      <td>10.10.1.198</td>\n",
              "      <td>TCP</td>\n",
              "      <td>96</td>\n",
              "      <td>[TCP Dup ACK 1#1] 443  &gt;  59620 [ACK] Seq=1 Ac...</td>\n",
              "    </tr>\n",
              "    <tr>\n",
              "      <th>2</th>\n",
              "      <td>3</td>\n",
              "      <td>0.000000</td>\n",
              "      <td>172.217.194.95</td>\n",
              "      <td>10.10.1.198</td>\n",
              "      <td>TCP</td>\n",
              "      <td>96</td>\n",
              "      <td>[TCP Dup ACK 1#2] 443  &gt;  59620 [ACK] Seq=1 Ac...</td>\n",
              "    </tr>\n",
              "    <tr>\n",
              "      <th>3</th>\n",
              "      <td>4</td>\n",
              "      <td>0.000101</td>\n",
              "      <td>172.217.194.95</td>\n",
              "      <td>10.10.1.198</td>\n",
              "      <td>TCP</td>\n",
              "      <td>96</td>\n",
              "      <td>443  &gt;  59620 [ACK] Seq=1 Ack=1401 Win=15371 L...</td>\n",
              "    </tr>\n",
              "    <tr>\n",
              "      <th>4</th>\n",
              "      <td>5</td>\n",
              "      <td>0.000101</td>\n",
              "      <td>172.217.194.95</td>\n",
              "      <td>10.10.1.198</td>\n",
              "      <td>TCP</td>\n",
              "      <td>96</td>\n",
              "      <td>[TCP Dup ACK 4#1] 443  &gt;  59620 [ACK] Seq=1 Ac...</td>\n",
              "    </tr>\n",
              "    <tr>\n",
              "      <th>...</th>\n",
              "      <td>...</td>\n",
              "      <td>...</td>\n",
              "      <td>...</td>\n",
              "      <td>...</td>\n",
              "      <td>...</td>\n",
              "      <td>...</td>\n",
              "      <td>...</td>\n",
              "    </tr>\n",
              "    <tr>\n",
              "      <th>250683</th>\n",
              "      <td>250684</td>\n",
              "      <td>45.598711</td>\n",
              "      <td>142.251.10.95</td>\n",
              "      <td>10.10.1.198</td>\n",
              "      <td>TCP</td>\n",
              "      <td>96</td>\n",
              "      <td>443  &gt;  49476 [ACK] Seq=21904 Ack=181073999 Wi...</td>\n",
              "    </tr>\n",
              "    <tr>\n",
              "      <th>250684</th>\n",
              "      <td>250685</td>\n",
              "      <td>45.598712</td>\n",
              "      <td>142.251.10.95</td>\n",
              "      <td>10.10.1.198</td>\n",
              "      <td>TCP</td>\n",
              "      <td>96</td>\n",
              "      <td>[TCP Dup ACK 250684#1] 443  &gt;  49476 [ACK] Seq...</td>\n",
              "    </tr>\n",
              "    <tr>\n",
              "      <th>250685</th>\n",
              "      <td>250686</td>\n",
              "      <td>45.598712</td>\n",
              "      <td>142.251.10.95</td>\n",
              "      <td>10.10.1.198</td>\n",
              "      <td>TCP</td>\n",
              "      <td>96</td>\n",
              "      <td>443  &gt;  49476 [ACK] Seq=21904 Ack=181075399 Wi...</td>\n",
              "    </tr>\n",
              "    <tr>\n",
              "      <th>250686</th>\n",
              "      <td>250687</td>\n",
              "      <td>45.598712</td>\n",
              "      <td>142.251.10.95</td>\n",
              "      <td>10.10.1.198</td>\n",
              "      <td>TCP</td>\n",
              "      <td>96</td>\n",
              "      <td>[TCP Dup ACK 250686#1] 443  &gt;  49476 [ACK] Seq...</td>\n",
              "    </tr>\n",
              "    <tr>\n",
              "      <th>250687</th>\n",
              "      <td>250688</td>\n",
              "      <td>45.598848</td>\n",
              "      <td>10.10.1.198</td>\n",
              "      <td>142.251.10.95</td>\n",
              "      <td>TLSv1.3</td>\n",
              "      <td>64468</td>\n",
              "      <td>Application Data, Application Data, Applicatio...</td>\n",
              "    </tr>\n",
              "  </tbody>\n",
              "</table>\n",
              "<p>250688 rows × 7 columns</p>\n",
              "</div>\n",
              "    <div class=\"colab-df-buttons\">\n",
              "\n",
              "  <div class=\"colab-df-container\">\n",
              "    <button class=\"colab-df-convert\" onclick=\"convertToInteractive('df-b9ef36b0-97f9-4cce-b7ed-359bcb43f15d')\"\n",
              "            title=\"Convert this dataframe to an interactive table.\"\n",
              "            style=\"display:none;\">\n",
              "\n",
              "  <svg xmlns=\"http://www.w3.org/2000/svg\" height=\"24px\" viewBox=\"0 -960 960 960\">\n",
              "    <path d=\"M120-120v-720h720v720H120Zm60-500h600v-160H180v160Zm220 220h160v-160H400v160Zm0 220h160v-160H400v160ZM180-400h160v-160H180v160Zm440 0h160v-160H620v160ZM180-180h160v-160H180v160Zm440 0h160v-160H620v160Z\"/>\n",
              "  </svg>\n",
              "    </button>\n",
              "\n",
              "  <style>\n",
              "    .colab-df-container {\n",
              "      display:flex;\n",
              "      gap: 12px;\n",
              "    }\n",
              "\n",
              "    .colab-df-convert {\n",
              "      background-color: #E8F0FE;\n",
              "      border: none;\n",
              "      border-radius: 50%;\n",
              "      cursor: pointer;\n",
              "      display: none;\n",
              "      fill: #1967D2;\n",
              "      height: 32px;\n",
              "      padding: 0 0 0 0;\n",
              "      width: 32px;\n",
              "    }\n",
              "\n",
              "    .colab-df-convert:hover {\n",
              "      background-color: #E2EBFA;\n",
              "      box-shadow: 0px 1px 2px rgba(60, 64, 67, 0.3), 0px 1px 3px 1px rgba(60, 64, 67, 0.15);\n",
              "      fill: #174EA6;\n",
              "    }\n",
              "\n",
              "    .colab-df-buttons div {\n",
              "      margin-bottom: 4px;\n",
              "    }\n",
              "\n",
              "    [theme=dark] .colab-df-convert {\n",
              "      background-color: #3B4455;\n",
              "      fill: #D2E3FC;\n",
              "    }\n",
              "\n",
              "    [theme=dark] .colab-df-convert:hover {\n",
              "      background-color: #434B5C;\n",
              "      box-shadow: 0px 1px 3px 1px rgba(0, 0, 0, 0.15);\n",
              "      filter: drop-shadow(0px 1px 2px rgba(0, 0, 0, 0.3));\n",
              "      fill: #FFFFFF;\n",
              "    }\n",
              "  </style>\n",
              "\n",
              "    <script>\n",
              "      const buttonEl =\n",
              "        document.querySelector('#df-b9ef36b0-97f9-4cce-b7ed-359bcb43f15d button.colab-df-convert');\n",
              "      buttonEl.style.display =\n",
              "        google.colab.kernel.accessAllowed ? 'block' : 'none';\n",
              "\n",
              "      async function convertToInteractive(key) {\n",
              "        const element = document.querySelector('#df-b9ef36b0-97f9-4cce-b7ed-359bcb43f15d');\n",
              "        const dataTable =\n",
              "          await google.colab.kernel.invokeFunction('convertToInteractive',\n",
              "                                                    [key], {});\n",
              "        if (!dataTable) return;\n",
              "\n",
              "        const docLinkHtml = 'Like what you see? Visit the ' +\n",
              "          '<a target=\"_blank\" href=https://colab.research.google.com/notebooks/data_table.ipynb>data table notebook</a>'\n",
              "          + ' to learn more about interactive tables.';\n",
              "        element.innerHTML = '';\n",
              "        dataTable['output_type'] = 'display_data';\n",
              "        await google.colab.output.renderOutput(dataTable, element);\n",
              "        const docLink = document.createElement('div');\n",
              "        docLink.innerHTML = docLinkHtml;\n",
              "        element.appendChild(docLink);\n",
              "      }\n",
              "    </script>\n",
              "  </div>\n",
              "\n",
              "\n",
              "<div id=\"df-019e0dd6-e607-4819-af16-af8b79aa97db\">\n",
              "  <button class=\"colab-df-quickchart\" onclick=\"quickchart('df-019e0dd6-e607-4819-af16-af8b79aa97db')\"\n",
              "            title=\"Suggest charts.\"\n",
              "            style=\"display:none;\">\n",
              "\n",
              "<svg xmlns=\"http://www.w3.org/2000/svg\" height=\"24px\"viewBox=\"0 0 24 24\"\n",
              "     width=\"24px\">\n",
              "    <g>\n",
              "        <path d=\"M19 3H5c-1.1 0-2 .9-2 2v14c0 1.1.9 2 2 2h14c1.1 0 2-.9 2-2V5c0-1.1-.9-2-2-2zM9 17H7v-7h2v7zm4 0h-2V7h2v10zm4 0h-2v-4h2v4z\"/>\n",
              "    </g>\n",
              "</svg>\n",
              "  </button>\n",
              "\n",
              "<style>\n",
              "  .colab-df-quickchart {\n",
              "      --bg-color: #E8F0FE;\n",
              "      --fill-color: #1967D2;\n",
              "      --hover-bg-color: #E2EBFA;\n",
              "      --hover-fill-color: #174EA6;\n",
              "      --disabled-fill-color: #AAA;\n",
              "      --disabled-bg-color: #DDD;\n",
              "  }\n",
              "\n",
              "  [theme=dark] .colab-df-quickchart {\n",
              "      --bg-color: #3B4455;\n",
              "      --fill-color: #D2E3FC;\n",
              "      --hover-bg-color: #434B5C;\n",
              "      --hover-fill-color: #FFFFFF;\n",
              "      --disabled-bg-color: #3B4455;\n",
              "      --disabled-fill-color: #666;\n",
              "  }\n",
              "\n",
              "  .colab-df-quickchart {\n",
              "    background-color: var(--bg-color);\n",
              "    border: none;\n",
              "    border-radius: 50%;\n",
              "    cursor: pointer;\n",
              "    display: none;\n",
              "    fill: var(--fill-color);\n",
              "    height: 32px;\n",
              "    padding: 0;\n",
              "    width: 32px;\n",
              "  }\n",
              "\n",
              "  .colab-df-quickchart:hover {\n",
              "    background-color: var(--hover-bg-color);\n",
              "    box-shadow: 0 1px 2px rgba(60, 64, 67, 0.3), 0 1px 3px 1px rgba(60, 64, 67, 0.15);\n",
              "    fill: var(--button-hover-fill-color);\n",
              "  }\n",
              "\n",
              "  .colab-df-quickchart-complete:disabled,\n",
              "  .colab-df-quickchart-complete:disabled:hover {\n",
              "    background-color: var(--disabled-bg-color);\n",
              "    fill: var(--disabled-fill-color);\n",
              "    box-shadow: none;\n",
              "  }\n",
              "\n",
              "  .colab-df-spinner {\n",
              "    border: 2px solid var(--fill-color);\n",
              "    border-color: transparent;\n",
              "    border-bottom-color: var(--fill-color);\n",
              "    animation:\n",
              "      spin 1s steps(1) infinite;\n",
              "  }\n",
              "\n",
              "  @keyframes spin {\n",
              "    0% {\n",
              "      border-color: transparent;\n",
              "      border-bottom-color: var(--fill-color);\n",
              "      border-left-color: var(--fill-color);\n",
              "    }\n",
              "    20% {\n",
              "      border-color: transparent;\n",
              "      border-left-color: var(--fill-color);\n",
              "      border-top-color: var(--fill-color);\n",
              "    }\n",
              "    30% {\n",
              "      border-color: transparent;\n",
              "      border-left-color: var(--fill-color);\n",
              "      border-top-color: var(--fill-color);\n",
              "      border-right-color: var(--fill-color);\n",
              "    }\n",
              "    40% {\n",
              "      border-color: transparent;\n",
              "      border-right-color: var(--fill-color);\n",
              "      border-top-color: var(--fill-color);\n",
              "    }\n",
              "    60% {\n",
              "      border-color: transparent;\n",
              "      border-right-color: var(--fill-color);\n",
              "    }\n",
              "    80% {\n",
              "      border-color: transparent;\n",
              "      border-right-color: var(--fill-color);\n",
              "      border-bottom-color: var(--fill-color);\n",
              "    }\n",
              "    90% {\n",
              "      border-color: transparent;\n",
              "      border-bottom-color: var(--fill-color);\n",
              "    }\n",
              "  }\n",
              "</style>\n",
              "\n",
              "  <script>\n",
              "    async function quickchart(key) {\n",
              "      const quickchartButtonEl =\n",
              "        document.querySelector('#' + key + ' button');\n",
              "      quickchartButtonEl.disabled = true;  // To prevent multiple clicks.\n",
              "      quickchartButtonEl.classList.add('colab-df-spinner');\n",
              "      try {\n",
              "        const charts = await google.colab.kernel.invokeFunction(\n",
              "            'suggestCharts', [key], {});\n",
              "      } catch (error) {\n",
              "        console.error('Error during call to suggestCharts:', error);\n",
              "      }\n",
              "      quickchartButtonEl.classList.remove('colab-df-spinner');\n",
              "      quickchartButtonEl.classList.add('colab-df-quickchart-complete');\n",
              "    }\n",
              "    (() => {\n",
              "      let quickchartButtonEl =\n",
              "        document.querySelector('#df-019e0dd6-e607-4819-af16-af8b79aa97db button');\n",
              "      quickchartButtonEl.style.display =\n",
              "        google.colab.kernel.accessAllowed ? 'block' : 'none';\n",
              "    })();\n",
              "  </script>\n",
              "</div>\n",
              "    </div>\n",
              "  </div>\n"
            ]
          },
          "metadata": {},
          "execution_count": 36
        }
      ]
    },
    {
      "cell_type": "markdown",
      "source": [
        "### Processing"
      ],
      "metadata": {
        "id": "lHGDBAN_fga2"
      }
    },
    {
      "cell_type": "code",
      "source": [
        "df.info()"
      ],
      "metadata": {
        "colab": {
          "base_uri": "https://localhost:8080/"
        },
        "id": "jpy8Yuo3cdTE",
        "outputId": "29352773-29f5-4c5f-bef5-768b2b7d5e27"
      },
      "execution_count": 37,
      "outputs": [
        {
          "output_type": "stream",
          "name": "stdout",
          "text": [
            "<class 'pandas.core.frame.DataFrame'>\n",
            "RangeIndex: 250688 entries, 0 to 250687\n",
            "Data columns (total 7 columns):\n",
            " #   Column       Non-Null Count   Dtype  \n",
            "---  ------       --------------   -----  \n",
            " 0   No.          250688 non-null  int64  \n",
            " 1   Time         250688 non-null  float64\n",
            " 2   Source       250688 non-null  object \n",
            " 3   Destination  250279 non-null  object \n",
            " 4   Protocol     250688 non-null  object \n",
            " 5   Length       250688 non-null  int64  \n",
            " 6   Info         250688 non-null  object \n",
            "dtypes: float64(1), int64(2), object(4)\n",
            "memory usage: 13.4+ MB\n"
          ]
        }
      ]
    },
    {
      "cell_type": "code",
      "source": [
        "df.isnull().sum()"
      ],
      "metadata": {
        "colab": {
          "base_uri": "https://localhost:8080/"
        },
        "id": "mJvddnEXc0vw",
        "outputId": "3c0a11c7-2454-4bde-ae45-e3811b7f7744"
      },
      "execution_count": 38,
      "outputs": [
        {
          "output_type": "execute_result",
          "data": {
            "text/plain": [
              "No.              0\n",
              "Time             0\n",
              "Source           0\n",
              "Destination    409\n",
              "Protocol         0\n",
              "Length           0\n",
              "Info             0\n",
              "dtype: int64"
            ]
          },
          "metadata": {},
          "execution_count": 38
        }
      ]
    },
    {
      "cell_type": "code",
      "source": [
        "# Menghapus baris dengan nilai NaN dalam kolom 'Destination'\n",
        "df.dropna(subset=['Destination'], inplace=True)"
      ],
      "metadata": {
        "id": "i2LX_oK7ehea"
      },
      "execution_count": 39,
      "outputs": []
    },
    {
      "cell_type": "code",
      "source": [
        "df.duplicated().sum()"
      ],
      "metadata": {
        "colab": {
          "base_uri": "https://localhost:8080/"
        },
        "id": "-9Ch_IbDel69",
        "outputId": "88b8c7a9-4270-4001-c3c8-b85b31102c8c"
      },
      "execution_count": 40,
      "outputs": [
        {
          "output_type": "execute_result",
          "data": {
            "text/plain": [
              "0"
            ]
          },
          "metadata": {},
          "execution_count": 40
        }
      ]
    },
    {
      "cell_type": "code",
      "source": [
        "df.info()"
      ],
      "metadata": {
        "colab": {
          "base_uri": "https://localhost:8080/"
        },
        "id": "_OTOIQXpeopL",
        "outputId": "ead57bd2-d10c-43a3-c5fd-b7de2bc99036"
      },
      "execution_count": 41,
      "outputs": [
        {
          "output_type": "stream",
          "name": "stdout",
          "text": [
            "<class 'pandas.core.frame.DataFrame'>\n",
            "Int64Index: 250279 entries, 0 to 250687\n",
            "Data columns (total 7 columns):\n",
            " #   Column       Non-Null Count   Dtype  \n",
            "---  ------       --------------   -----  \n",
            " 0   No.          250279 non-null  int64  \n",
            " 1   Time         250279 non-null  float64\n",
            " 2   Source       250279 non-null  object \n",
            " 3   Destination  250279 non-null  object \n",
            " 4   Protocol     250279 non-null  object \n",
            " 5   Length       250279 non-null  int64  \n",
            " 6   Info         250279 non-null  object \n",
            "dtypes: float64(1), int64(2), object(4)\n",
            "memory usage: 15.3+ MB\n"
          ]
        }
      ]
    },
    {
      "cell_type": "markdown",
      "source": [
        "### Regex"
      ],
      "metadata": {
        "id": "mN1CcRKGhjiK"
      }
    },
    {
      "cell_type": "code",
      "source": [
        "def extract_info(info_string):\n",
        "    port_matches = re.findall(r'\\d+', info_string.split()[0])\n",
        "    src_port, dst_port = port_matches if len(port_matches) == 2 else (None, None)\n",
        "\n",
        "    ack_type = \"TCP Dup ACK\" if \"TCP Dup ACK\" in info_string else \"ACK\" if \"ACK\" in info_string else None\n",
        "\n",
        "    seq_match = re.search(r'Seq=(\\d+)', info_string)\n",
        "    ack_match = re.search(r'Ack=(\\d+)', info_string)\n",
        "    seq_val = int(seq_match.group(1)) if seq_match else None\n",
        "    ack_val = int(ack_match.group(1)) if ack_match else None\n",
        "\n",
        "    win_match = re.search(r'Win=(\\d+)', info_string)\n",
        "    len_match = re.search(r'Len=(\\d+)', info_string)\n",
        "    win_val = int(win_match.group(1)) if win_match else None\n",
        "    len_val = int(len_match.group(1)) if len_match else None\n",
        "\n",
        "    return src_port, dst_port, ack_type, seq_val, ack_val, win_val, len_val\n",
        "\n",
        "df['Source Port'], df['Destination Port'], df['ACK Type'], df['Seq Value'], df['Ack Value'], df['Win Value'], df['Len Value'] = zip(*df['Info'].map(extract_info))\n"
      ],
      "metadata": {
        "id": "rVA2QESQhsmR"
      },
      "execution_count": 42,
      "outputs": []
    },
    {
      "cell_type": "code",
      "source": [
        "def extract_ports(info_string):\n",
        "    port_matches = re.findall(r'(\\d+)\\s*>\\s*(\\d+)', info_string)\n",
        "    if port_matches:\n",
        "        return port_matches[0]\n",
        "    else:\n",
        "        return (None, None)\n",
        "\n",
        "df['Source Port'], df['Destination Port'] = zip(*df['Info'].map(extract_ports))\n",
        "\n",
        "df.head()\n"
      ],
      "metadata": {
        "colab": {
          "base_uri": "https://localhost:8080/",
          "height": 310
        },
        "id": "kzsD5RBQh9MP",
        "outputId": "842c9209-16a9-4321-9706-c7e7889950d2"
      },
      "execution_count": 43,
      "outputs": [
        {
          "output_type": "execute_result",
          "data": {
            "text/plain": [
              "   No.      Time          Source  Destination Protocol  Length  \\\n",
              "0    1  0.000000  172.217.194.95  10.10.1.198      TCP      96   \n",
              "1    2  0.000000  172.217.194.95  10.10.1.198      TCP      96   \n",
              "2    3  0.000000  172.217.194.95  10.10.1.198      TCP      96   \n",
              "3    4  0.000101  172.217.194.95  10.10.1.198      TCP      96   \n",
              "4    5  0.000101  172.217.194.95  10.10.1.198      TCP      96   \n",
              "\n",
              "                                                Info Source Port  \\\n",
              "0  443  >  59620 [ACK] Seq=1 Ack=1 Win=15371 Len=...         443   \n",
              "1  [TCP Dup ACK 1#1] 443  >  59620 [ACK] Seq=1 Ac...         443   \n",
              "2  [TCP Dup ACK 1#2] 443  >  59620 [ACK] Seq=1 Ac...         443   \n",
              "3  443  >  59620 [ACK] Seq=1 Ack=1401 Win=15371 L...         443   \n",
              "4  [TCP Dup ACK 4#1] 443  >  59620 [ACK] Seq=1 Ac...         443   \n",
              "\n",
              "  Destination Port     ACK Type  Seq Value  Ack Value  Win Value  Len Value  \n",
              "0            59620          ACK        1.0        1.0    15371.0        0.0  \n",
              "1            59620  TCP Dup ACK        1.0        1.0    15371.0        0.0  \n",
              "2            59620  TCP Dup ACK        1.0        1.0    15371.0        0.0  \n",
              "3            59620          ACK        1.0     1401.0    15371.0        0.0  \n",
              "4            59620  TCP Dup ACK        1.0     1401.0    15371.0        0.0  "
            ],
            "text/html": [
              "\n",
              "  <div id=\"df-7cceb996-5c2a-4ddb-8a79-3225337bde19\" class=\"colab-df-container\">\n",
              "    <div>\n",
              "<style scoped>\n",
              "    .dataframe tbody tr th:only-of-type {\n",
              "        vertical-align: middle;\n",
              "    }\n",
              "\n",
              "    .dataframe tbody tr th {\n",
              "        vertical-align: top;\n",
              "    }\n",
              "\n",
              "    .dataframe thead th {\n",
              "        text-align: right;\n",
              "    }\n",
              "</style>\n",
              "<table border=\"1\" class=\"dataframe\">\n",
              "  <thead>\n",
              "    <tr style=\"text-align: right;\">\n",
              "      <th></th>\n",
              "      <th>No.</th>\n",
              "      <th>Time</th>\n",
              "      <th>Source</th>\n",
              "      <th>Destination</th>\n",
              "      <th>Protocol</th>\n",
              "      <th>Length</th>\n",
              "      <th>Info</th>\n",
              "      <th>Source Port</th>\n",
              "      <th>Destination Port</th>\n",
              "      <th>ACK Type</th>\n",
              "      <th>Seq Value</th>\n",
              "      <th>Ack Value</th>\n",
              "      <th>Win Value</th>\n",
              "      <th>Len Value</th>\n",
              "    </tr>\n",
              "  </thead>\n",
              "  <tbody>\n",
              "    <tr>\n",
              "      <th>0</th>\n",
              "      <td>1</td>\n",
              "      <td>0.000000</td>\n",
              "      <td>172.217.194.95</td>\n",
              "      <td>10.10.1.198</td>\n",
              "      <td>TCP</td>\n",
              "      <td>96</td>\n",
              "      <td>443  &gt;  59620 [ACK] Seq=1 Ack=1 Win=15371 Len=...</td>\n",
              "      <td>443</td>\n",
              "      <td>59620</td>\n",
              "      <td>ACK</td>\n",
              "      <td>1.0</td>\n",
              "      <td>1.0</td>\n",
              "      <td>15371.0</td>\n",
              "      <td>0.0</td>\n",
              "    </tr>\n",
              "    <tr>\n",
              "      <th>1</th>\n",
              "      <td>2</td>\n",
              "      <td>0.000000</td>\n",
              "      <td>172.217.194.95</td>\n",
              "      <td>10.10.1.198</td>\n",
              "      <td>TCP</td>\n",
              "      <td>96</td>\n",
              "      <td>[TCP Dup ACK 1#1] 443  &gt;  59620 [ACK] Seq=1 Ac...</td>\n",
              "      <td>443</td>\n",
              "      <td>59620</td>\n",
              "      <td>TCP Dup ACK</td>\n",
              "      <td>1.0</td>\n",
              "      <td>1.0</td>\n",
              "      <td>15371.0</td>\n",
              "      <td>0.0</td>\n",
              "    </tr>\n",
              "    <tr>\n",
              "      <th>2</th>\n",
              "      <td>3</td>\n",
              "      <td>0.000000</td>\n",
              "      <td>172.217.194.95</td>\n",
              "      <td>10.10.1.198</td>\n",
              "      <td>TCP</td>\n",
              "      <td>96</td>\n",
              "      <td>[TCP Dup ACK 1#2] 443  &gt;  59620 [ACK] Seq=1 Ac...</td>\n",
              "      <td>443</td>\n",
              "      <td>59620</td>\n",
              "      <td>TCP Dup ACK</td>\n",
              "      <td>1.0</td>\n",
              "      <td>1.0</td>\n",
              "      <td>15371.0</td>\n",
              "      <td>0.0</td>\n",
              "    </tr>\n",
              "    <tr>\n",
              "      <th>3</th>\n",
              "      <td>4</td>\n",
              "      <td>0.000101</td>\n",
              "      <td>172.217.194.95</td>\n",
              "      <td>10.10.1.198</td>\n",
              "      <td>TCP</td>\n",
              "      <td>96</td>\n",
              "      <td>443  &gt;  59620 [ACK] Seq=1 Ack=1401 Win=15371 L...</td>\n",
              "      <td>443</td>\n",
              "      <td>59620</td>\n",
              "      <td>ACK</td>\n",
              "      <td>1.0</td>\n",
              "      <td>1401.0</td>\n",
              "      <td>15371.0</td>\n",
              "      <td>0.0</td>\n",
              "    </tr>\n",
              "    <tr>\n",
              "      <th>4</th>\n",
              "      <td>5</td>\n",
              "      <td>0.000101</td>\n",
              "      <td>172.217.194.95</td>\n",
              "      <td>10.10.1.198</td>\n",
              "      <td>TCP</td>\n",
              "      <td>96</td>\n",
              "      <td>[TCP Dup ACK 4#1] 443  &gt;  59620 [ACK] Seq=1 Ac...</td>\n",
              "      <td>443</td>\n",
              "      <td>59620</td>\n",
              "      <td>TCP Dup ACK</td>\n",
              "      <td>1.0</td>\n",
              "      <td>1401.0</td>\n",
              "      <td>15371.0</td>\n",
              "      <td>0.0</td>\n",
              "    </tr>\n",
              "  </tbody>\n",
              "</table>\n",
              "</div>\n",
              "    <div class=\"colab-df-buttons\">\n",
              "\n",
              "  <div class=\"colab-df-container\">\n",
              "    <button class=\"colab-df-convert\" onclick=\"convertToInteractive('df-7cceb996-5c2a-4ddb-8a79-3225337bde19')\"\n",
              "            title=\"Convert this dataframe to an interactive table.\"\n",
              "            style=\"display:none;\">\n",
              "\n",
              "  <svg xmlns=\"http://www.w3.org/2000/svg\" height=\"24px\" viewBox=\"0 -960 960 960\">\n",
              "    <path d=\"M120-120v-720h720v720H120Zm60-500h600v-160H180v160Zm220 220h160v-160H400v160Zm0 220h160v-160H400v160ZM180-400h160v-160H180v160Zm440 0h160v-160H620v160ZM180-180h160v-160H180v160Zm440 0h160v-160H620v160Z\"/>\n",
              "  </svg>\n",
              "    </button>\n",
              "\n",
              "  <style>\n",
              "    .colab-df-container {\n",
              "      display:flex;\n",
              "      gap: 12px;\n",
              "    }\n",
              "\n",
              "    .colab-df-convert {\n",
              "      background-color: #E8F0FE;\n",
              "      border: none;\n",
              "      border-radius: 50%;\n",
              "      cursor: pointer;\n",
              "      display: none;\n",
              "      fill: #1967D2;\n",
              "      height: 32px;\n",
              "      padding: 0 0 0 0;\n",
              "      width: 32px;\n",
              "    }\n",
              "\n",
              "    .colab-df-convert:hover {\n",
              "      background-color: #E2EBFA;\n",
              "      box-shadow: 0px 1px 2px rgba(60, 64, 67, 0.3), 0px 1px 3px 1px rgba(60, 64, 67, 0.15);\n",
              "      fill: #174EA6;\n",
              "    }\n",
              "\n",
              "    .colab-df-buttons div {\n",
              "      margin-bottom: 4px;\n",
              "    }\n",
              "\n",
              "    [theme=dark] .colab-df-convert {\n",
              "      background-color: #3B4455;\n",
              "      fill: #D2E3FC;\n",
              "    }\n",
              "\n",
              "    [theme=dark] .colab-df-convert:hover {\n",
              "      background-color: #434B5C;\n",
              "      box-shadow: 0px 1px 3px 1px rgba(0, 0, 0, 0.15);\n",
              "      filter: drop-shadow(0px 1px 2px rgba(0, 0, 0, 0.3));\n",
              "      fill: #FFFFFF;\n",
              "    }\n",
              "  </style>\n",
              "\n",
              "    <script>\n",
              "      const buttonEl =\n",
              "        document.querySelector('#df-7cceb996-5c2a-4ddb-8a79-3225337bde19 button.colab-df-convert');\n",
              "      buttonEl.style.display =\n",
              "        google.colab.kernel.accessAllowed ? 'block' : 'none';\n",
              "\n",
              "      async function convertToInteractive(key) {\n",
              "        const element = document.querySelector('#df-7cceb996-5c2a-4ddb-8a79-3225337bde19');\n",
              "        const dataTable =\n",
              "          await google.colab.kernel.invokeFunction('convertToInteractive',\n",
              "                                                    [key], {});\n",
              "        if (!dataTable) return;\n",
              "\n",
              "        const docLinkHtml = 'Like what you see? Visit the ' +\n",
              "          '<a target=\"_blank\" href=https://colab.research.google.com/notebooks/data_table.ipynb>data table notebook</a>'\n",
              "          + ' to learn more about interactive tables.';\n",
              "        element.innerHTML = '';\n",
              "        dataTable['output_type'] = 'display_data';\n",
              "        await google.colab.output.renderOutput(dataTable, element);\n",
              "        const docLink = document.createElement('div');\n",
              "        docLink.innerHTML = docLinkHtml;\n",
              "        element.appendChild(docLink);\n",
              "      }\n",
              "    </script>\n",
              "  </div>\n",
              "\n",
              "\n",
              "<div id=\"df-7aa377c9-e0b6-4a66-ad75-800ac09de586\">\n",
              "  <button class=\"colab-df-quickchart\" onclick=\"quickchart('df-7aa377c9-e0b6-4a66-ad75-800ac09de586')\"\n",
              "            title=\"Suggest charts.\"\n",
              "            style=\"display:none;\">\n",
              "\n",
              "<svg xmlns=\"http://www.w3.org/2000/svg\" height=\"24px\"viewBox=\"0 0 24 24\"\n",
              "     width=\"24px\">\n",
              "    <g>\n",
              "        <path d=\"M19 3H5c-1.1 0-2 .9-2 2v14c0 1.1.9 2 2 2h14c1.1 0 2-.9 2-2V5c0-1.1-.9-2-2-2zM9 17H7v-7h2v7zm4 0h-2V7h2v10zm4 0h-2v-4h2v4z\"/>\n",
              "    </g>\n",
              "</svg>\n",
              "  </button>\n",
              "\n",
              "<style>\n",
              "  .colab-df-quickchart {\n",
              "      --bg-color: #E8F0FE;\n",
              "      --fill-color: #1967D2;\n",
              "      --hover-bg-color: #E2EBFA;\n",
              "      --hover-fill-color: #174EA6;\n",
              "      --disabled-fill-color: #AAA;\n",
              "      --disabled-bg-color: #DDD;\n",
              "  }\n",
              "\n",
              "  [theme=dark] .colab-df-quickchart {\n",
              "      --bg-color: #3B4455;\n",
              "      --fill-color: #D2E3FC;\n",
              "      --hover-bg-color: #434B5C;\n",
              "      --hover-fill-color: #FFFFFF;\n",
              "      --disabled-bg-color: #3B4455;\n",
              "      --disabled-fill-color: #666;\n",
              "  }\n",
              "\n",
              "  .colab-df-quickchart {\n",
              "    background-color: var(--bg-color);\n",
              "    border: none;\n",
              "    border-radius: 50%;\n",
              "    cursor: pointer;\n",
              "    display: none;\n",
              "    fill: var(--fill-color);\n",
              "    height: 32px;\n",
              "    padding: 0;\n",
              "    width: 32px;\n",
              "  }\n",
              "\n",
              "  .colab-df-quickchart:hover {\n",
              "    background-color: var(--hover-bg-color);\n",
              "    box-shadow: 0 1px 2px rgba(60, 64, 67, 0.3), 0 1px 3px 1px rgba(60, 64, 67, 0.15);\n",
              "    fill: var(--button-hover-fill-color);\n",
              "  }\n",
              "\n",
              "  .colab-df-quickchart-complete:disabled,\n",
              "  .colab-df-quickchart-complete:disabled:hover {\n",
              "    background-color: var(--disabled-bg-color);\n",
              "    fill: var(--disabled-fill-color);\n",
              "    box-shadow: none;\n",
              "  }\n",
              "\n",
              "  .colab-df-spinner {\n",
              "    border: 2px solid var(--fill-color);\n",
              "    border-color: transparent;\n",
              "    border-bottom-color: var(--fill-color);\n",
              "    animation:\n",
              "      spin 1s steps(1) infinite;\n",
              "  }\n",
              "\n",
              "  @keyframes spin {\n",
              "    0% {\n",
              "      border-color: transparent;\n",
              "      border-bottom-color: var(--fill-color);\n",
              "      border-left-color: var(--fill-color);\n",
              "    }\n",
              "    20% {\n",
              "      border-color: transparent;\n",
              "      border-left-color: var(--fill-color);\n",
              "      border-top-color: var(--fill-color);\n",
              "    }\n",
              "    30% {\n",
              "      border-color: transparent;\n",
              "      border-left-color: var(--fill-color);\n",
              "      border-top-color: var(--fill-color);\n",
              "      border-right-color: var(--fill-color);\n",
              "    }\n",
              "    40% {\n",
              "      border-color: transparent;\n",
              "      border-right-color: var(--fill-color);\n",
              "      border-top-color: var(--fill-color);\n",
              "    }\n",
              "    60% {\n",
              "      border-color: transparent;\n",
              "      border-right-color: var(--fill-color);\n",
              "    }\n",
              "    80% {\n",
              "      border-color: transparent;\n",
              "      border-right-color: var(--fill-color);\n",
              "      border-bottom-color: var(--fill-color);\n",
              "    }\n",
              "    90% {\n",
              "      border-color: transparent;\n",
              "      border-bottom-color: var(--fill-color);\n",
              "    }\n",
              "  }\n",
              "</style>\n",
              "\n",
              "  <script>\n",
              "    async function quickchart(key) {\n",
              "      const quickchartButtonEl =\n",
              "        document.querySelector('#' + key + ' button');\n",
              "      quickchartButtonEl.disabled = true;  // To prevent multiple clicks.\n",
              "      quickchartButtonEl.classList.add('colab-df-spinner');\n",
              "      try {\n",
              "        const charts = await google.colab.kernel.invokeFunction(\n",
              "            'suggestCharts', [key], {});\n",
              "      } catch (error) {\n",
              "        console.error('Error during call to suggestCharts:', error);\n",
              "      }\n",
              "      quickchartButtonEl.classList.remove('colab-df-spinner');\n",
              "      quickchartButtonEl.classList.add('colab-df-quickchart-complete');\n",
              "    }\n",
              "    (() => {\n",
              "      let quickchartButtonEl =\n",
              "        document.querySelector('#df-7aa377c9-e0b6-4a66-ad75-800ac09de586 button');\n",
              "      quickchartButtonEl.style.display =\n",
              "        google.colab.kernel.accessAllowed ? 'block' : 'none';\n",
              "    })();\n",
              "  </script>\n",
              "</div>\n",
              "    </div>\n",
              "  </div>\n"
            ]
          },
          "metadata": {},
          "execution_count": 43
        }
      ]
    },
    {
      "cell_type": "code",
      "source": [
        "df.info()"
      ],
      "metadata": {
        "colab": {
          "base_uri": "https://localhost:8080/"
        },
        "id": "8VmlAiIyiTfu",
        "outputId": "2aefc1b5-8a7e-4453-f38e-3f0b42b50cbf"
      },
      "execution_count": 44,
      "outputs": [
        {
          "output_type": "stream",
          "name": "stdout",
          "text": [
            "<class 'pandas.core.frame.DataFrame'>\n",
            "Int64Index: 250279 entries, 0 to 250687\n",
            "Data columns (total 14 columns):\n",
            " #   Column            Non-Null Count   Dtype  \n",
            "---  ------            --------------   -----  \n",
            " 0   No.               250279 non-null  int64  \n",
            " 1   Time              250279 non-null  float64\n",
            " 2   Source            250279 non-null  object \n",
            " 3   Destination       250279 non-null  object \n",
            " 4   Protocol          250279 non-null  object \n",
            " 5   Length            250279 non-null  int64  \n",
            " 6   Info              250279 non-null  object \n",
            " 7   Source Port       241416 non-null  object \n",
            " 8   Destination Port  241416 non-null  object \n",
            " 9   ACK Type          241414 non-null  object \n",
            " 10  Seq Value         241416 non-null  float64\n",
            " 11  Ack Value         241411 non-null  float64\n",
            " 12  Win Value         241416 non-null  float64\n",
            " 13  Len Value         241416 non-null  float64\n",
            "dtypes: float64(5), int64(2), object(7)\n",
            "memory usage: 28.6+ MB\n"
          ]
        }
      ]
    },
    {
      "cell_type": "code",
      "source": [
        "df.isnull().sum()"
      ],
      "metadata": {
        "colab": {
          "base_uri": "https://localhost:8080/"
        },
        "id": "9GbIdeTHh91N",
        "outputId": "5668a9dc-23d8-4a43-97ed-a6e8251015eb"
      },
      "execution_count": 45,
      "outputs": [
        {
          "output_type": "execute_result",
          "data": {
            "text/plain": [
              "No.                    0\n",
              "Time                   0\n",
              "Source                 0\n",
              "Destination            0\n",
              "Protocol               0\n",
              "Length                 0\n",
              "Info                   0\n",
              "Source Port         8863\n",
              "Destination Port    8863\n",
              "ACK Type            8865\n",
              "Seq Value           8863\n",
              "Ack Value           8868\n",
              "Win Value           8863\n",
              "Len Value           8863\n",
              "dtype: int64"
            ]
          },
          "metadata": {},
          "execution_count": 45
        }
      ]
    },
    {
      "cell_type": "code",
      "source": [
        "# Mengisi nilai kosong dengan mean pada kolom 'Seq Value'\n",
        "mean_seq_value = df['Seq Value'].mean()\n",
        "df['Seq Value'].fillna(mean_seq_value, inplace=True)\n",
        "\n",
        "# Mengisi nilai kosong dengan mean pada kolom 'Ack Value'\n",
        "mean_ack_value = df['Ack Value'].mean()\n",
        "df['Ack Value'].fillna(mean_ack_value, inplace=True)\n",
        "\n",
        "# Mengisi nilai kosong dengan mean pada kolom 'Win Value'\n",
        "mean_win_value = df['Win Value'].mean()\n",
        "df['Win Value'].fillna(mean_win_value, inplace=True)\n",
        "\n",
        "# Mengisi nilai kosong dengan mean pada kolom 'Len Value'\n",
        "mean_len_value = df['Len Value'].mean()\n",
        "df['Len Value'].fillna(mean_len_value, inplace=True)\n"
      ],
      "metadata": {
        "id": "G-7LtPGajnaG"
      },
      "execution_count": 46,
      "outputs": []
    },
    {
      "cell_type": "code",
      "source": [
        "# Menghapus baris dengan nilai NaN dalam kolom 'Destination'\n",
        "df.dropna(subset=['Source Port'], inplace=True)\n",
        "df.dropna(subset=['Destination Port'], inplace=True)\n",
        "df.dropna(subset=['ACK Type'], inplace=True)"
      ],
      "metadata": {
        "id": "8AVbkvbYjvy2"
      },
      "execution_count": 47,
      "outputs": []
    },
    {
      "cell_type": "code",
      "source": [
        "df.isnull().sum()"
      ],
      "metadata": {
        "colab": {
          "base_uri": "https://localhost:8080/"
        },
        "id": "Z2Demsnzjzh2",
        "outputId": "43867268-cf7f-4a46-f47e-92ff0d5793cd"
      },
      "execution_count": 48,
      "outputs": [
        {
          "output_type": "execute_result",
          "data": {
            "text/plain": [
              "No.                 0\n",
              "Time                0\n",
              "Source              0\n",
              "Destination         0\n",
              "Protocol            0\n",
              "Length              0\n",
              "Info                0\n",
              "Source Port         0\n",
              "Destination Port    0\n",
              "ACK Type            0\n",
              "Seq Value           0\n",
              "Ack Value           0\n",
              "Win Value           0\n",
              "Len Value           0\n",
              "dtype: int64"
            ]
          },
          "metadata": {},
          "execution_count": 48
        }
      ]
    },
    {
      "cell_type": "markdown",
      "source": [
        "### Model"
      ],
      "metadata": {
        "id": "g9_PnJ76nzNh"
      }
    },
    {
      "cell_type": "code",
      "source": [
        "df.info()"
      ],
      "metadata": {
        "colab": {
          "base_uri": "https://localhost:8080/"
        },
        "id": "0nwgLpb4r8Vq",
        "outputId": "41598ab3-4265-446e-f64b-0c1d5768e2bb"
      },
      "execution_count": 49,
      "outputs": [
        {
          "output_type": "stream",
          "name": "stdout",
          "text": [
            "<class 'pandas.core.frame.DataFrame'>\n",
            "Int64Index: 241412 entries, 0 to 250686\n",
            "Data columns (total 14 columns):\n",
            " #   Column            Non-Null Count   Dtype  \n",
            "---  ------            --------------   -----  \n",
            " 0   No.               241412 non-null  int64  \n",
            " 1   Time              241412 non-null  float64\n",
            " 2   Source            241412 non-null  object \n",
            " 3   Destination       241412 non-null  object \n",
            " 4   Protocol          241412 non-null  object \n",
            " 5   Length            241412 non-null  int64  \n",
            " 6   Info              241412 non-null  object \n",
            " 7   Source Port       241412 non-null  object \n",
            " 8   Destination Port  241412 non-null  object \n",
            " 9   ACK Type          241412 non-null  object \n",
            " 10  Seq Value         241412 non-null  float64\n",
            " 11  Ack Value         241412 non-null  float64\n",
            " 12  Win Value         241412 non-null  float64\n",
            " 13  Len Value         241412 non-null  float64\n",
            "dtypes: float64(5), int64(2), object(7)\n",
            "memory usage: 27.6+ MB\n"
          ]
        }
      ]
    },
    {
      "cell_type": "code",
      "source": [
        "X = df[['Source Port', 'Destination Port', 'Seq Value', 'Ack Value', 'Win Value', 'Len Value']]\n",
        "y = df['ACK Type']"
      ],
      "metadata": {
        "id": "YOcjLOQOkyHt"
      },
      "execution_count": 50,
      "outputs": []
    },
    {
      "cell_type": "code",
      "source": [
        "X_train, X_test, y_train, y_test = train_test_split(X, y, test_size=0.2, random_state=42)"
      ],
      "metadata": {
        "id": "61PT9nmqoEXL"
      },
      "execution_count": 51,
      "outputs": []
    },
    {
      "cell_type": "code",
      "source": [
        "from sklearn.preprocessing import StandardScaler\n",
        "\n",
        "scaler = StandardScaler()\n",
        "X_train = scaler.fit_transform(X_train)\n",
        "X_test = scaler.transform(X_test)\n"
      ],
      "metadata": {
        "id": "IzMHa47NsPTS"
      },
      "execution_count": 52,
      "outputs": []
    },
    {
      "cell_type": "code",
      "source": [
        "rf_model = RandomForestClassifier(n_estimators=100, random_state=42)\n",
        "rf_model.fit(X_train, y_train)"
      ],
      "metadata": {
        "colab": {
          "base_uri": "https://localhost:8080/",
          "height": 75
        },
        "id": "b3jleyE5oGmr",
        "outputId": "9852ad2f-f8eb-4e56-cbe1-839826180c08"
      },
      "execution_count": 53,
      "outputs": [
        {
          "output_type": "execute_result",
          "data": {
            "text/plain": [
              "RandomForestClassifier(random_state=42)"
            ],
            "text/html": [
              "<style>#sk-container-id-2 {color: black;background-color: white;}#sk-container-id-2 pre{padding: 0;}#sk-container-id-2 div.sk-toggleable {background-color: white;}#sk-container-id-2 label.sk-toggleable__label {cursor: pointer;display: block;width: 100%;margin-bottom: 0;padding: 0.3em;box-sizing: border-box;text-align: center;}#sk-container-id-2 label.sk-toggleable__label-arrow:before {content: \"▸\";float: left;margin-right: 0.25em;color: #696969;}#sk-container-id-2 label.sk-toggleable__label-arrow:hover:before {color: black;}#sk-container-id-2 div.sk-estimator:hover label.sk-toggleable__label-arrow:before {color: black;}#sk-container-id-2 div.sk-toggleable__content {max-height: 0;max-width: 0;overflow: hidden;text-align: left;background-color: #f0f8ff;}#sk-container-id-2 div.sk-toggleable__content pre {margin: 0.2em;color: black;border-radius: 0.25em;background-color: #f0f8ff;}#sk-container-id-2 input.sk-toggleable__control:checked~div.sk-toggleable__content {max-height: 200px;max-width: 100%;overflow: auto;}#sk-container-id-2 input.sk-toggleable__control:checked~label.sk-toggleable__label-arrow:before {content: \"▾\";}#sk-container-id-2 div.sk-estimator input.sk-toggleable__control:checked~label.sk-toggleable__label {background-color: #d4ebff;}#sk-container-id-2 div.sk-label input.sk-toggleable__control:checked~label.sk-toggleable__label {background-color: #d4ebff;}#sk-container-id-2 input.sk-hidden--visually {border: 0;clip: rect(1px 1px 1px 1px);clip: rect(1px, 1px, 1px, 1px);height: 1px;margin: -1px;overflow: hidden;padding: 0;position: absolute;width: 1px;}#sk-container-id-2 div.sk-estimator {font-family: monospace;background-color: #f0f8ff;border: 1px dotted black;border-radius: 0.25em;box-sizing: border-box;margin-bottom: 0.5em;}#sk-container-id-2 div.sk-estimator:hover {background-color: #d4ebff;}#sk-container-id-2 div.sk-parallel-item::after {content: \"\";width: 100%;border-bottom: 1px solid gray;flex-grow: 1;}#sk-container-id-2 div.sk-label:hover label.sk-toggleable__label {background-color: #d4ebff;}#sk-container-id-2 div.sk-serial::before {content: \"\";position: absolute;border-left: 1px solid gray;box-sizing: border-box;top: 0;bottom: 0;left: 50%;z-index: 0;}#sk-container-id-2 div.sk-serial {display: flex;flex-direction: column;align-items: center;background-color: white;padding-right: 0.2em;padding-left: 0.2em;position: relative;}#sk-container-id-2 div.sk-item {position: relative;z-index: 1;}#sk-container-id-2 div.sk-parallel {display: flex;align-items: stretch;justify-content: center;background-color: white;position: relative;}#sk-container-id-2 div.sk-item::before, #sk-container-id-2 div.sk-parallel-item::before {content: \"\";position: absolute;border-left: 1px solid gray;box-sizing: border-box;top: 0;bottom: 0;left: 50%;z-index: -1;}#sk-container-id-2 div.sk-parallel-item {display: flex;flex-direction: column;z-index: 1;position: relative;background-color: white;}#sk-container-id-2 div.sk-parallel-item:first-child::after {align-self: flex-end;width: 50%;}#sk-container-id-2 div.sk-parallel-item:last-child::after {align-self: flex-start;width: 50%;}#sk-container-id-2 div.sk-parallel-item:only-child::after {width: 0;}#sk-container-id-2 div.sk-dashed-wrapped {border: 1px dashed gray;margin: 0 0.4em 0.5em 0.4em;box-sizing: border-box;padding-bottom: 0.4em;background-color: white;}#sk-container-id-2 div.sk-label label {font-family: monospace;font-weight: bold;display: inline-block;line-height: 1.2em;}#sk-container-id-2 div.sk-label-container {text-align: center;}#sk-container-id-2 div.sk-container {/* jupyter's `normalize.less` sets `[hidden] { display: none; }` but bootstrap.min.css set `[hidden] { display: none !important; }` so we also need the `!important` here to be able to override the default hidden behavior on the sphinx rendered scikit-learn.org. See: https://github.com/scikit-learn/scikit-learn/issues/21755 */display: inline-block !important;position: relative;}#sk-container-id-2 div.sk-text-repr-fallback {display: none;}</style><div id=\"sk-container-id-2\" class=\"sk-top-container\"><div class=\"sk-text-repr-fallback\"><pre>RandomForestClassifier(random_state=42)</pre><b>In a Jupyter environment, please rerun this cell to show the HTML representation or trust the notebook. <br />On GitHub, the HTML representation is unable to render, please try loading this page with nbviewer.org.</b></div><div class=\"sk-container\" hidden><div class=\"sk-item\"><div class=\"sk-estimator sk-toggleable\"><input class=\"sk-toggleable__control sk-hidden--visually\" id=\"sk-estimator-id-2\" type=\"checkbox\" checked><label for=\"sk-estimator-id-2\" class=\"sk-toggleable__label sk-toggleable__label-arrow\">RandomForestClassifier</label><div class=\"sk-toggleable__content\"><pre>RandomForestClassifier(random_state=42)</pre></div></div></div></div></div>"
            ]
          },
          "metadata": {},
          "execution_count": 53
        }
      ]
    },
    {
      "cell_type": "code",
      "source": [
        "y_pred = rf_model.predict(X_test)"
      ],
      "metadata": {
        "id": "2FJascwOoIzW"
      },
      "execution_count": 54,
      "outputs": []
    },
    {
      "cell_type": "code",
      "source": [
        "# Evaluasi model\n",
        "accuracy = accuracy_score(y_test, y_pred)\n",
        "print(f'Accuracy: {accuracy}')"
      ],
      "metadata": {
        "colab": {
          "base_uri": "https://localhost:8080/"
        },
        "id": "4bNecQsBoUDb",
        "outputId": "95d76f84-17ed-4380-896d-f650f89cc7d1"
      },
      "execution_count": 55,
      "outputs": [
        {
          "output_type": "stream",
          "name": "stdout",
          "text": [
            "Accuracy: 0.6577884555640702\n"
          ]
        }
      ]
    }
  ]
}